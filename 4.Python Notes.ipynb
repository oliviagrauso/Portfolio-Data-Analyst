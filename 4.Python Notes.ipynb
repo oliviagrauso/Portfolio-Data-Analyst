{
 "cells": [
  {
   "cell_type": "markdown",
   "id": "debaa821-ec9c-4d35-91b0-9968db548f8d",
   "metadata": {},
   "source": [
    "   ## ** My notes for the 1º Course of 6 - Microsoft Python Developer - April/2025  **"
   ]
  },
  {
   "cell_type": "code",
   "execution_count": 1,
   "id": "d6c38212-11d8-4867-82d0-48e296783b2d",
   "metadata": {},
   "outputs": [
    {
     "name": "stdout",
     "output_type": "stream",
     "text": [
      "You are eligible to vote.\n"
     ]
    }
   ],
   "source": [
    "age = 25\n",
    "\n",
    "if age >= 18:\n",
    "    print(\"You are eligible to vote.\")\n",
    "else:\n",
    "    print(\"You are not yet eligible to vote\")"
   ]
  },
  {
   "cell_type": "code",
   "execution_count": 21,
   "id": "c510ad05-c94e-4ae5-8de7-b370d16baa0b",
   "metadata": {},
   "outputs": [
    {
     "name": "stdout",
     "output_type": "stream",
     "text": [
      "The final price is 40.0, after apply 20% of discount\n"
     ]
    }
   ],
   "source": [
    "discount = 0.2  #  20% Discount\n",
    "price = 50\n",
    "final_price = price * (1 - discount)\n",
    "print(f\"The final price is {final_price}, after apply {int(discount*100)}% of discount\")"
   ]
  },
  {
   "cell_type": "code",
   "execution_count": 32,
   "id": "c8c369a1-bee3-4167-b858-3253feff7bed",
   "metadata": {},
   "outputs": [
    {
     "name": "stdout",
     "output_type": "stream",
     "text": [
      "The final price is US$ 63.75. Thank you for your order!\n"
     ]
    }
   ],
   "source": [
    "## 1st Task: Price calculator\n",
    "\n",
    "original_price = 75\n",
    "discount_rate = 0.15 # 15% Discount\n",
    "discount_value = original_price * discount_rate\n",
    "final_price2 = original_price - discount_value\n",
    "print(f\"The final price is US$ {final_price2}. Thank you for your order!\")\n"
   ]
  },
  {
   "cell_type": "code",
   "execution_count": 15,
   "id": "b77a0166-5aac-4f5b-9418-dd98f839f411",
   "metadata": {},
   "outputs": [
    {
     "name": "stdout",
     "output_type": "stream",
     "text": [
      "Congratulations! Your order is qualify for free shipping.\n"
     ]
    }
   ],
   "source": [
    "# Function IF\n",
    "\n",
    "order_total = 75\n",
    "if order_total >= 50:\n",
    "    print(\"Congratulations! Your order is qualify for free shipping.\")\n"
   ]
  },
  {
   "cell_type": "code",
   "execution_count": 17,
   "id": "21c47156-820a-446c-af33-04836ccc5b50",
   "metadata": {},
   "outputs": [
    {
     "name": "stdout",
     "output_type": "stream",
     "text": [
      "Add US$ 37.5 for free shipping.\n"
     ]
    }
   ],
   "source": [
    "# Function ELSE\n",
    "\n",
    "order_total2 = 12.5\n",
    "if order_total2 >= 50:\n",
    "    print(\"Congratulations! Your order is qualify for free shipping.\")\n",
    "else:\n",
    "    print(f\"Add US$ {50 - order_total2} for free shipping.\")"
   ]
  },
  {
   "cell_type": "code",
   "execution_count": 65,
   "id": "ed2ee2c1-1af5-48a9-9b1b-33905c80518e",
   "metadata": {},
   "outputs": [
    {
     "name": "stdout",
     "output_type": "stream",
     "text": [
      "Congratulations! Your order is qualify for free shipping. Orders over US$ 100 receive a 5% discount, add US$ 1 to receive it.\n"
     ]
    }
   ],
   "source": [
    "# Function IF-ELIF-ELSE\n",
    "\n",
    "order_total3 = 99\n",
    "if order_total3 >= 100:\n",
    "    print(\"Congratulations! Your order is qualify for free shipping and we applied 5% discount in your cart.\")\n",
    "elif 50 <= order_total3 < 100:\n",
    "    print(f\"Congratulations! Your order is qualify for free shipping. Orders over US$ 100 receive a 5% discount, add US$ {100 - order_total3} to receive it.\")\n",
    "else:\n",
    "    print(f\"Add US$ {50 - order_total3} for free shipping.\")"
   ]
  },
  {
   "cell_type": "code",
   "execution_count": 87,
   "id": "fceee056-0152-4ba5-91a8-36a71387a36c",
   "metadata": {},
   "outputs": [
    {
     "name": "stdout",
     "output_type": "stream",
     "text": [
      "1\n",
      "2\n",
      "3\n",
      "4\n",
      "5\n",
      "6\n",
      "7\n",
      "8\n",
      "9\n",
      "10\n",
      "123456789101 2 3 4 5 6 7 8 9 10 "
     ]
    }
   ],
   "source": [
    "# loop FOR (when the number of iteration is known)\n",
    "\n",
    "for i in range(1,11): #range(1,11) or a list, tuple, string\n",
    "    print(i) # to print vertical (normal mode)\n",
    "\n",
    "for i in range (1,11):\n",
    "    print(i, end=\"\") # for print horizontal without spaces\n",
    "\n",
    "for i in range (1,11):\n",
    "    print(i, end=\" \") # for print horizontal with spaces"
   ]
  },
  {
   "cell_type": "code",
   "execution_count": 99,
   "id": "8276721b-2858-4e71-befe-00723d947c48",
   "metadata": {},
   "outputs": [
    {
     "name": "stdout",
     "output_type": "stream",
     "text": [
      "Cart total = US$ 820.00\n"
     ]
    }
   ],
   "source": [
    "# Practice loop FOR - Total in an online cart\n",
    "\n",
    "cart = [ # a dicticionary to combine product and price in individual entries, and a list to combine dicticionaries\n",
    "    {\"product\": \"cellphone\", \"price\": 800.00},\n",
    "    {\"product\": \"cellphone case\", \"price\": 20.00}\n",
    "]\n",
    "\n",
    "cart_total = 0 # to create the variable, starting in zero\n",
    "\n",
    "for item in cart:\n",
    "    cart_total += item[\"price\"] # the signal += do plus and after do the new equals, without rewrite a new line to stablish the new equals\n",
    "\n",
    "print(f\"Cart total = US$ {cart_total:.2f}\") # the \":.2f\" add two decimal positions"
   ]
  },
  {
   "cell_type": "code",
   "execution_count": 1,
   "id": "f428b536-edea-424b-986d-36954d3bfc7b",
   "metadata": {},
   "outputs": [
    {
     "name": "stdin",
     "output_type": "stream",
     "text": [
      "Please enter a number greater than 0:  0\n"
     ]
    },
    {
     "name": "stdout",
     "output_type": "stream",
     "text": [
      "Invalid input. Please try again\n"
     ]
    },
    {
     "name": "stdin",
     "output_type": "stream",
     "text": [
      "Please enter a number greater than 0:  1\n"
     ]
    }
   ],
   "source": [
    "# loop WHILE (when the number of iteration is unknown)\n",
    "\n",
    "valid_input = False #the input starts with false. While empty or wrong, it's false\n",
    "while not valid_input: # 'while not' inverting the false in true, and just in this way the program starts. \n",
    "    user_input = int(input(\"Please enter a number greater than 0: \"))\n",
    "    if user_input > 0:\n",
    "        valid_input = True\n",
    "    else:\n",
    "        print(\"Invalid input. Please try again\") "
   ]
  },
  {
   "cell_type": "code",
   "execution_count": 7,
   "id": "d9c1c986-e3d4-41c8-b5a2-42d23907c79d",
   "metadata": {},
   "outputs": [
    {
     "name": "stdout",
     "output_type": "stream",
     "text": [
      "The chosen number is: 6\n",
      "Not yet. Trying again...\n",
      "The chosen number is: 5\n",
      "Not yet. Trying again...\n",
      "The chosen number is: 4\n",
      "Not yet. Trying again...\n",
      "The chosen number is: 2\n",
      "Not yet. Trying again...\n",
      "The chosen number is: 6\n",
      "Not yet. Trying again...\n",
      "The chosen number is: 9\n",
      "Not yet. Trying again...\n",
      "The chosen number is: 9\n",
      "Not yet. Trying again...\n",
      "The chosen number is: 4\n",
      "Not yet. Trying again...\n",
      "The chosen number is: 3\n",
      "Not yet. Trying again...\n",
      "The chosen number is: 7\n",
      "Not yet. Trying again...\n",
      "The chosen number is: 3\n",
      "Not yet. Trying again...\n",
      "The chosen number is: 6\n",
      "Not yet. Trying again...\n",
      "The chosen number is: 6\n",
      "Not yet. Trying again...\n",
      "The chosen number is: 1\n",
      "Not yet. Trying again...\n",
      "The chosen number is: 1\n",
      "Not yet. Trying again...\n",
      "The chosen number is: 2\n",
      "Not yet. Trying again...\n",
      "The chosen number is: 7\n",
      "Not yet. Trying again...\n",
      "The chosen number is: 1\n",
      "Not yet. Trying again...\n",
      "The chosen number is: 9\n",
      "Not yet. Trying again...\n",
      "The chosen number is: 4\n",
      "Not yet. Trying again...\n",
      "The chosen number is: 10\n",
      "Not yet. Trying again...\n",
      "The chosen number is: 7\n",
      "Not yet. Trying again...\n",
      "The chosen number is: 7\n",
      "Not yet. Trying again...\n",
      "The chosen number is: 3\n",
      "Not yet. Trying again...\n",
      "The chosen number is: 3\n",
      "Not yet. Trying again...\n",
      "The chosen number is: 1\n",
      "Not yet. Trying again...\n",
      "The chosen number is: 1\n",
      "Not yet. Trying again...\n",
      "The chosen number is: 1\n",
      "Not yet. Trying again...\n",
      "The chosen number is: 5\n",
      "Not yet. Trying again...\n",
      "The chosen number is: 7\n",
      "Not yet. Trying again...\n",
      "The chosen number is: 7\n",
      "Not yet. Trying again...\n",
      "The chosen number is: 5\n",
      "Not yet. Trying again...\n",
      "The chosen number is: 7\n",
      "Not yet. Trying again...\n",
      "The chosen number is: 8\n",
      "Great job! You guessed it! It was 8.\n"
     ]
    }
   ],
   "source": [
    "# 2nd Task: Guess the secret number\n",
    "\n",
    "import random # should import 'randon' library because is that library allows random tests with the computer\n",
    "\n",
    "secret_number = 8 # I chose a secret_number\n",
    "guess = 0 # And the guess' number starts in zero\n",
    "\n",
    "while guess != secret_number: #while 'guess' is different of secret number, do:\n",
    "    guess = random.randint(1,10) # chose a random number between 1 and 10\n",
    "    print(f\"The chosen number is: {guess}\")\n",
    "            \n",
    "    if guess == secret_number:\n",
    "        print(f\"Great job! You guessed it! It was {secret_number}.\")\n",
    "    else:\n",
    "        print(\"Not yet. Trying again...\")"
   ]
  },
  {
   "cell_type": "code",
   "execution_count": 15,
   "id": "87cb3b07-02bf-40f6-9c1f-4ba3eec6a74b",
   "metadata": {},
   "outputs": [
    {
     "name": "stdin",
     "output_type": "stream",
     "text": [
      "The price varies depending on your age. Enter your age:  65\n"
     ]
    },
    {
     "name": "stdout",
     "output_type": "stream",
     "text": [
      "The ticket costs: $10. Don't forget to bring your ID card\n"
     ]
    }
   ],
   "source": [
    "# 3rd Task: Writing a conditional statment\n",
    "\n",
    "# Data: Children (under 12): $8 / Adults (12-64): $12 / Seniors (65 and older): $10\n",
    "\n",
    "user_age = int(input(\"The price varies depending on your age. Enter your age: \"))\n",
    "if user_age < 12:\n",
    "    print(\"The ticket costs: $8. Don't forget to bring your ID card\")\n",
    "elif 12 <= user_age <= 64:\n",
    "    print(\"The ticket costs: $12. Don't forget to bring your ID card\")\n",
    "else:\n",
    "    print(\"The ticket costs: $10. Don't forget to bring your ID card\")"
   ]
  },
  {
   "cell_type": "code",
   "execution_count": null,
   "id": "9c14d342-b668-4968-8452-e2954a92805e",
   "metadata": {},
   "outputs": [],
   "source": []
  }
 ],
 "metadata": {
  "kernelspec": {
   "display_name": "Python [conda env:base] *",
   "language": "python",
   "name": "conda-base-py"
  },
  "language_info": {
   "codemirror_mode": {
    "name": "ipython",
    "version": 3
   },
   "file_extension": ".py",
   "mimetype": "text/x-python",
   "name": "python",
   "nbconvert_exporter": "python",
   "pygments_lexer": "ipython3",
   "version": "3.12.7"
  }
 },
 "nbformat": 4,
 "nbformat_minor": 5
}
