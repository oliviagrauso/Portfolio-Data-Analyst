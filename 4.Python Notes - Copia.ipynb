{
 "cells": [
  {
   "cell_type": "markdown",
   "id": "debaa821-ec9c-4d35-91b0-9968db548f8d",
   "metadata": {},
   "source": [
    "   ## ** My notes for the 1º Course of 6 - Microsoft Python Developer - April/2025  **"
   ]
  },
  {
   "cell_type": "code",
   "execution_count": 1,
   "id": "d6c38212-11d8-4867-82d0-48e296783b2d",
   "metadata": {},
   "outputs": [
    {
     "name": "stdout",
     "output_type": "stream",
     "text": [
      "You are eligible to vote.\n"
     ]
    }
   ],
   "source": [
    "age = 25\n",
    "\n",
    "if age >= 18:\n",
    "    print(\"You are eligible to vote.\")\n",
    "else:\n",
    "    print(\"You are not yet eligible to vote\")"
   ]
  },
  {
   "cell_type": "code",
   "execution_count": 21,
   "id": "c510ad05-c94e-4ae5-8de7-b370d16baa0b",
   "metadata": {},
   "outputs": [
    {
     "name": "stdout",
     "output_type": "stream",
     "text": [
      "The final price is 40.0, after apply 20% of discount\n"
     ]
    }
   ],
   "source": [
    "discount = 0.2  #  20% Discount\n",
    "price = 50\n",
    "final_price = price * (1 - discount)\n",
    "print(f\"The final price is {final_price}, after apply {int(discount*100)}% of discount\")"
   ]
  },
  {
   "cell_type": "code",
   "execution_count": 32,
   "id": "c8c369a1-bee3-4167-b858-3253feff7bed",
   "metadata": {},
   "outputs": [
    {
     "name": "stdout",
     "output_type": "stream",
     "text": [
      "The final price is US$ 63.75. Thank you for your order!\n"
     ]
    }
   ],
   "source": [
    "## 1st Task: Price calculator\n",
    "\n",
    "original_price = 75\n",
    "discount_rate = 0.15 # 15% Discount\n",
    "discount_value = original_price * discount_rate\n",
    "final_price2 = original_price - discount_value\n",
    "print(f\"The final price is US$ {final_price2}. Thank you for your order!\")\n"
   ]
  },
  {
   "cell_type": "code",
   "execution_count": 15,
   "id": "b77a0166-5aac-4f5b-9418-dd98f839f411",
   "metadata": {},
   "outputs": [
    {
     "name": "stdout",
     "output_type": "stream",
     "text": [
      "Congratulations! Your order is qualify for free shipping.\n"
     ]
    }
   ],
   "source": [
    "# Function IF\n",
    "\n",
    "order_total = 75\n",
    "if order_total >= 50:\n",
    "    print(\"Congratulations! Your order is qualify for free shipping.\")\n"
   ]
  },
  {
   "cell_type": "code",
   "execution_count": 17,
   "id": "21c47156-820a-446c-af33-04836ccc5b50",
   "metadata": {},
   "outputs": [
    {
     "name": "stdout",
     "output_type": "stream",
     "text": [
      "Add US$ 37.5 for free shipping.\n"
     ]
    }
   ],
   "source": [
    "# Function ELSE\n",
    "\n",
    "order_total2 = 12.5\n",
    "if order_total2 >= 50:\n",
    "    print(\"Congratulations! Your order is qualify for free shipping.\")\n",
    "else:\n",
    "    print(f\"Add US$ {50 - order_total2} for free shipping.\")"
   ]
  },
  {
   "cell_type": "code",
   "execution_count": 65,
   "id": "ed2ee2c1-1af5-48a9-9b1b-33905c80518e",
   "metadata": {},
   "outputs": [
    {
     "name": "stdout",
     "output_type": "stream",
     "text": [
      "Congratulations! Your order is qualify for free shipping. Orders over US$ 100 receive a 5% discount, add US$ 1 to receive it.\n"
     ]
    }
   ],
   "source": [
    "# Function IF-ELIF-ELSE\n",
    "\n",
    "order_total3 = 99\n",
    "if order_total3 >= 100:\n",
    "    print(\"Congratulations! Your order is qualify for free shipping and we applied 5% discount in your cart.\")\n",
    "elif 50 <= order_total3 < 100:\n",
    "    print(f\"Congratulations! Your order is qualify for free shipping. Orders over US$ 100 receive a 5% discount, add US$ {100 - order_total3} to receive it.\")\n",
    "else:\n",
    "    print(f\"Add US$ {50 - order_total3} for free shipping.\")"
   ]
  },
  {
   "cell_type": "code",
   "execution_count": 87,
   "id": "fceee056-0152-4ba5-91a8-36a71387a36c",
   "metadata": {},
   "outputs": [
    {
     "name": "stdout",
     "output_type": "stream",
     "text": [
      "1\n",
      "2\n",
      "3\n",
      "4\n",
      "5\n",
      "6\n",
      "7\n",
      "8\n",
      "9\n",
      "10\n",
      "123456789101 2 3 4 5 6 7 8 9 10 "
     ]
    }
   ],
   "source": [
    "# FOR loop (when the number of iteration is known)\n",
    "\n",
    "for i in range(1,11): #range(1,11) or a list, tuple, string\n",
    "    print(i) # to print vertical (normal mode)\n",
    "\n",
    "for i in range (1,11):\n",
    "    print(i, end=\"\") # for print horizontal without spaces\n",
    "\n",
    "for i in range (1,11):\n",
    "    print(i, end=\" \") # for print horizontal with spaces"
   ]
  },
  {
   "cell_type": "code",
   "execution_count": 99,
   "id": "8276721b-2858-4e71-befe-00723d947c48",
   "metadata": {},
   "outputs": [
    {
     "name": "stdout",
     "output_type": "stream",
     "text": [
      "Cart total = US$ 820.00\n"
     ]
    }
   ],
   "source": [
    "# Practice FOR loop - Total in an online cart\n",
    "\n",
    "cart = [ # a dicticionary to combine product and price in individual entries, and a list to combine dicticionaries\n",
    "    {\"product\": \"cellphone\", \"price\": 800.00},\n",
    "    {\"product\": \"cellphone case\", \"price\": 20.00}\n",
    "]\n",
    "\n",
    "cart_total = 0 # to create the variable, starting in zero\n",
    "\n",
    "for item in cart:\n",
    "    cart_total += item[\"price\"] # the signal += do plus and after do the new equals, without rewrite a new line to stablish the new equals\n",
    "\n",
    "print(f\"Cart total = US$ {cart_total:.2f}\") # the \":.2f\" add two decimal positions"
   ]
  },
  {
   "cell_type": "code",
   "execution_count": 1,
   "id": "f428b536-edea-424b-986d-36954d3bfc7b",
   "metadata": {},
   "outputs": [
    {
     "name": "stdin",
     "output_type": "stream",
     "text": [
      "Please enter a number greater than 0:  0\n"
     ]
    },
    {
     "name": "stdout",
     "output_type": "stream",
     "text": [
      "Invalid input. Please try again\n"
     ]
    },
    {
     "name": "stdin",
     "output_type": "stream",
     "text": [
      "Please enter a number greater than 0:  1\n"
     ]
    }
   ],
   "source": [
    "# WHILE loop (when the number of iteration is unknown)\n",
    "\n",
    "valid_input = False #the input starts with false. While empty or wrong, it's false\n",
    "while not valid_input: # 'while not' inverting the false in true, and just in this way the program starts. \n",
    "    user_input = int(input(\"Please enter a number greater than 0: \"))\n",
    "    if user_input > 0:\n",
    "        valid_input = True\n",
    "    else:\n",
    "        print(\"Invalid input. Please try again\") "
   ]
  },
  {
   "cell_type": "code",
   "execution_count": 7,
   "id": "d9c1c986-e3d4-41c8-b5a2-42d23907c79d",
   "metadata": {},
   "outputs": [
    {
     "name": "stdout",
     "output_type": "stream",
     "text": [
      "The chosen number is: 6\n",
      "Not yet. Trying again...\n",
      "The chosen number is: 5\n",
      "Not yet. Trying again...\n",
      "The chosen number is: 4\n",
      "Not yet. Trying again...\n",
      "The chosen number is: 2\n",
      "Not yet. Trying again...\n",
      "The chosen number is: 6\n",
      "Not yet. Trying again...\n",
      "The chosen number is: 9\n",
      "Not yet. Trying again...\n",
      "The chosen number is: 9\n",
      "Not yet. Trying again...\n",
      "The chosen number is: 4\n",
      "Not yet. Trying again...\n",
      "The chosen number is: 3\n",
      "Not yet. Trying again...\n",
      "The chosen number is: 7\n",
      "Not yet. Trying again...\n",
      "The chosen number is: 3\n",
      "Not yet. Trying again...\n",
      "The chosen number is: 6\n",
      "Not yet. Trying again...\n",
      "The chosen number is: 6\n",
      "Not yet. Trying again...\n",
      "The chosen number is: 1\n",
      "Not yet. Trying again...\n",
      "The chosen number is: 1\n",
      "Not yet. Trying again...\n",
      "The chosen number is: 2\n",
      "Not yet. Trying again...\n",
      "The chosen number is: 7\n",
      "Not yet. Trying again...\n",
      "The chosen number is: 1\n",
      "Not yet. Trying again...\n",
      "The chosen number is: 9\n",
      "Not yet. Trying again...\n",
      "The chosen number is: 4\n",
      "Not yet. Trying again...\n",
      "The chosen number is: 10\n",
      "Not yet. Trying again...\n",
      "The chosen number is: 7\n",
      "Not yet. Trying again...\n",
      "The chosen number is: 7\n",
      "Not yet. Trying again...\n",
      "The chosen number is: 3\n",
      "Not yet. Trying again...\n",
      "The chosen number is: 3\n",
      "Not yet. Trying again...\n",
      "The chosen number is: 1\n",
      "Not yet. Trying again...\n",
      "The chosen number is: 1\n",
      "Not yet. Trying again...\n",
      "The chosen number is: 1\n",
      "Not yet. Trying again...\n",
      "The chosen number is: 5\n",
      "Not yet. Trying again...\n",
      "The chosen number is: 7\n",
      "Not yet. Trying again...\n",
      "The chosen number is: 7\n",
      "Not yet. Trying again...\n",
      "The chosen number is: 5\n",
      "Not yet. Trying again...\n",
      "The chosen number is: 7\n",
      "Not yet. Trying again...\n",
      "The chosen number is: 8\n",
      "Great job! You guessed it! It was 8.\n"
     ]
    }
   ],
   "source": [
    "# 2nd Task: Guess the secret number\n",
    "\n",
    "import random # should import 'randon' library because is that library allows random tests with the computer\n",
    "\n",
    "secret_number = 8 # I chose a secret_number\n",
    "guess = 0 # And the guess' number starts in zero\n",
    "\n",
    "while guess != secret_number: #while 'guess' is different of secret number, do:\n",
    "    guess = random.randint(1,10) # chose a random number between 1 and 10\n",
    "    print(f\"The chosen number is: {guess}\")\n",
    "            \n",
    "    if guess == secret_number:\n",
    "        print(f\"Great job! You guessed it! It was {secret_number}.\")\n",
    "    else:\n",
    "        print(\"Not yet. Trying again...\")"
   ]
  },
  {
   "cell_type": "code",
   "execution_count": 15,
   "id": "87cb3b07-02bf-40f6-9c1f-4ba3eec6a74b",
   "metadata": {},
   "outputs": [
    {
     "name": "stdin",
     "output_type": "stream",
     "text": [
      "The price varies depending on your age. Enter your age:  65\n"
     ]
    },
    {
     "name": "stdout",
     "output_type": "stream",
     "text": [
      "The ticket costs: $10. Don't forget to bring your ID card\n"
     ]
    }
   ],
   "source": [
    "# 3rd Task: Writing a conditional statment\n",
    "\n",
    "# Data: Children (under 12): $8 / Adults (12-64): $12 / Seniors (65 and older): $10\n",
    "\n",
    "user_age = int(input(\"The price varies depending on your age. Enter your age: \"))\n",
    "if user_age < 12:\n",
    "    print(\"The ticket costs: $8. Don't forget to bring your ID card\")\n",
    "elif 12 <= user_age <= 64:\n",
    "    print(\"The ticket costs: $12. Don't forget to bring your ID card\")\n",
    "else:\n",
    "    print(\"The ticket costs: $10. Don't forget to bring your ID card\")"
   ]
  },
  {
   "cell_type": "code",
   "execution_count": 13,
   "id": "9c14d342-b668-4968-8452-e2954a92805e",
   "metadata": {},
   "outputs": [
    {
     "name": "stdout",
     "output_type": "stream",
     "text": [
      "10 11 12 13 14 15 16 17 18 19 20 \n",
      "1 2 3 4 5 "
     ]
    }
   ],
   "source": [
    "#Difference between FOR and WHILE loop\n",
    "\n",
    "# loop FOR: designed for iterating over sequences like lists, tuples, strings, and ranges.\n",
    "for n in range(10,21):\n",
    "    print(n, end=\" \")\n",
    "\n",
    "# Add a \"blank\" print to move for another line\n",
    "print()\n",
    "\n",
    "# loop WHILE: execute as long as a specified condition remains true.\n",
    "number = 1\n",
    "while number <= 5:\n",
    "    print(number, end=\" \")\n",
    "    number = number + 1"
   ]
  },
  {
   "cell_type": "code",
   "execution_count": 29,
   "id": "08389df1-64a4-4230-bb17-e07fe877db2e",
   "metadata": {},
   "outputs": [
    {
     "name": "stdout",
     "output_type": "stream",
     "text": [
      "apple\n",
      "3\n",
      "['apple', 'banana', 'cherry', 'mango'] 4\n"
     ]
    }
   ],
   "source": [
    "#List: a list is a data structure with an ordered collection of elements, separated by comma inside a [].\n",
    "#Since the list is an ordered collection, each element has a position, starting at zero (index)\n",
    "\n",
    "fruits = [\"apple\", \"banana\", \"cherry\"]\n",
    "first_fruit = print(fruits[0])\n",
    "\n",
    "#Function \"len\" (length) to count how many elements there are in the list\n",
    "length_fruits = print(len(fruits))\n",
    "\n",
    "#And we can add elements to the list with the function \"append\"\n",
    "fruits.append(\"mango\")\n",
    "print(fruits,len(fruits))"
   ]
  },
  {
   "cell_type": "code",
   "execution_count": 49,
   "id": "ff9eef63-476d-402b-8640-e78e0f2c5f79",
   "metadata": {},
   "outputs": [
    {
     "name": "stdout",
     "output_type": "stream",
     "text": [
      "Hello, Alice. Welcome!\n",
      "Hello, Bob. Welcome!\n",
      "Hello, Charlie. Welcome!\n"
     ]
    }
   ],
   "source": [
    "# A list with a FOR loop:\n",
    "\n",
    "students = [\"Alice\",\"Bob\",\"Charlie\"]\n",
    "for student in students:\n",
    "    print(f\"Hello, {student}. Welcome!\")"
   ]
  },
  {
   "cell_type": "code",
   "execution_count": 55,
   "id": "de621500-7a87-4a43-a83f-b4e99c0ff16b",
   "metadata": {},
   "outputs": [
    {
     "name": "stdout",
     "output_type": "stream",
     "text": [
      "The sum is: 1\n",
      "The sum is: 3\n",
      "The sum is: 6\n",
      "The sum is: 10\n"
     ]
    }
   ],
   "source": [
    "#Count and data manipulation\n",
    "\n",
    "total = 0\n",
    "for number in range(1,5):\n",
    "    total += number\n",
    "    print(\"The sum is:\", total)"
   ]
  },
  {
   "cell_type": "code",
   "execution_count": 61,
   "id": "16d9f6f3-abbb-469f-a1b3-a2246031cf02",
   "metadata": {},
   "outputs": [
    {
     "name": "stdout",
     "output_type": "stream",
     "text": [
      "0 2 4 "
     ]
    }
   ],
   "source": [
    "# Filtering with WHILE loop:\n",
    "\n",
    "numbers = [0,1,2,3,4]\n",
    "index = 0  # normally the loop while needs a counter, different of loop for which counts automatically\n",
    "\n",
    "while index < len(numbers):\n",
    "    if numbers[index] % 2 == 0:\n",
    "        print(numbers[index],end=\" \")\n",
    "    index += 1"
   ]
  },
  {
   "cell_type": "code",
   "execution_count": 63,
   "id": "1c3e74f3-dc4a-4d65-83dc-d57b1edc098f",
   "metadata": {},
   "outputs": [
    {
     "name": "stdout",
     "output_type": "stream",
     "text": [
      "0 2 4 "
     ]
    }
   ],
   "source": [
    "#The same idea can be used with FOR loop, in an easy way:\n",
    "\n",
    "for n in numbers: #the loop for counts automatically, iterating through all elements of the elements of the list\n",
    "    if n % 2 == 0:\n",
    "        print(n, end=\" \")"
   ]
  },
  {
   "cell_type": "code",
   "execution_count": 1,
   "id": "13ba3dad-dd79-4967-9af6-c9a19a0759d5",
   "metadata": {},
   "outputs": [
    {
     "name": "stdout",
     "output_type": "stream",
     "text": [
      "1 * 1 = 1\t1 * 2 = 2\t1 * 3 = 3\t1 * 4 = 4\t1 * 5 = 5\t\n",
      "2 * 1 = 2\t2 * 2 = 4\t2 * 3 = 6\t2 * 4 = 8\t2 * 5 = 10\t\n",
      "3 * 1 = 3\t3 * 2 = 6\t3 * 3 = 9\t3 * 4 = 12\t3 * 5 = 15\t\n",
      "4 * 1 = 4\t4 * 2 = 8\t4 * 3 = 12\t4 * 4 = 16\t4 * 5 = 20\t\n",
      "5 * 1 = 5\t5 * 2 = 10\t5 * 3 = 15\t5 * 4 = 20\t5 * 5 = 25\t\n"
     ]
    }
   ],
   "source": [
    "# Nested loops\n",
    "\n",
    "for i in range(1,6):\n",
    "    for j in range(1,6):\n",
    "        print(i, \"*\", j, \"=\", i * j, end=\"\\t\") # to print the equation and '\\t' to separate by tab\n",
    "    print() #to move to the next line\n",
    "        "
   ]
  },
  {
   "cell_type": "code",
   "execution_count": 21,
   "id": "a5a31830-1061-445a-9706-e6ccff79c75b",
   "metadata": {},
   "outputs": [
    {
     "name": "stdout",
     "output_type": "stream",
     "text": [
      "0\n",
      "12\n",
      "24\n",
      "36\n",
      "48\n",
      "0\n",
      "12\n",
      "24\n",
      "36\n",
      "48\n"
     ]
    }
   ],
   "source": [
    "# 4th Task: Enjoying FOR loop\n",
    "# Data: print numbers evenly divisible by 3 and 4; max_value = 50\n",
    "\n",
    "for n in range(0,51):\n",
    "    if n % 3 == 0 and n % 4 == 0:\n",
    "        print(n)\n",
    "\n",
    "max_value = 50\n",
    "for n2 in range(0,max_value+1):\n",
    "    if n2 % 3 == 0 and n2 % 4 == 0:\n",
    "        print(n2)"
   ]
  },
  {
   "cell_type": "code",
   "execution_count": 27,
   "id": "2e72503b-568a-446b-a029-e1a8c48c4b3f",
   "metadata": {},
   "outputs": [
    {
     "name": "stdout",
     "output_type": "stream",
     "text": [
      "3 is odd\n",
      "9 is odd\n",
      "1 is odd\n",
      "10 is even\n",
      "5 is odd\n",
      "2 is even\n",
      "8 is even\n"
     ]
    }
   ],
   "source": [
    "# 5th Task: Even and Odd Number\n",
    "\n",
    "numbers = [3, 9, 1, 10, 5, 2, 8]\n",
    "\n",
    "for number in numbers:\n",
    "    if number % 2 == 0:\n",
    "        print(f\"{number} is even\")\n",
    "    else:\n",
    "        print(f\"{number} is odd\")"
   ]
  },
  {
   "cell_type": "code",
   "execution_count": 1,
   "id": "51a1937a-f7be-42ad-b981-4409ae751825",
   "metadata": {},
   "outputs": [
    {
     "name": "stdout",
     "output_type": "stream",
     "text": [
      "86.6\n"
     ]
    }
   ],
   "source": [
    "# Calculating an average grade\n",
    "\n",
    "average_score = 0\n",
    "\n",
    "exam_scores = [85, 90, 78, 92, 88]\n",
    "total_score = 0\n",
    "\n",
    "for score in exam_scores:\n",
    "    total_score = total_score + score\n",
    "\n",
    "average_score = total_score/len(exam_scores)\n",
    "print(average_score)"
   ]
  },
  {
   "cell_type": "code",
   "execution_count": 5,
   "id": "ae08412c-3a25-485d-99da-a9514a674486",
   "metadata": {},
   "outputs": [
    {
     "name": "stdout",
     "output_type": "stream",
     "text": [
      "6\n"
     ]
    }
   ],
   "source": [
    "# Bidimensional lists\n",
    "\n",
    "grid = [\n",
    "    [1,2,3],\n",
    "    [4,5,6],\n",
    "    [7,8,9]\n",
    "]\n",
    "\n",
    "# To print the number 6:\n",
    "print(grid[1][2])"
   ]
  },
  {
   "cell_type": "code",
   "execution_count": 35,
   "id": "b195fd48-7e95-4851-8860-50fd13690812",
   "metadata": {},
   "outputs": [
    {
     "name": "stdout",
     "output_type": "stream",
     "text": [
      "1\n",
      "['milk', 'cookies', 'coffee', 'butter', 'bread']\n"
     ]
    }
   ],
   "source": [
    "# About lists\n",
    "grocery_list = [\"milk\", \"coffee\", \"bread\", \"butter\"]\n",
    "\n",
    "# append = to add an element to the list\n",
    "grocery_list.append(\"cookies\")\n",
    "\n",
    "#insert = to add an element in a right position\n",
    "grocery_list.insert(4,\"milk\")\n",
    "\n",
    "#remove = remove the first element found\n",
    "grocery_list.remove(\"milk\")\n",
    "\n",
    "#sort = sort the list\n",
    "grocery_list.sort()\n",
    "\n",
    "#reverse = reverse the order's list\n",
    "grocery_list.reverse()\n",
    "\n",
    "#count = count a specified element\n",
    "print(grocery_list.count(\"butter\"))\n",
    "\n",
    "\n",
    "print(grocery_list)"
   ]
  },
  {
   "cell_type": "code",
   "execution_count": 5,
   "id": "97db386a-271e-4d28-87ce-cdabb97766b5",
   "metadata": {},
   "outputs": [
    {
     "name": "stdin",
     "output_type": "stream",
     "text": [
      "Insert the length:  12.5\n",
      "Insert the width:  10.8\n"
     ]
    },
    {
     "name": "stdout",
     "output_type": "stream",
     "text": [
      "The area of the rectangle is: 135.0\n"
     ]
    }
   ],
   "source": [
    "# FUNCTIONS AND DRY PRINCIPLE\n",
    "\n",
    "# Function to calculate the area of a rectangle\n",
    "def calculate_area(length, width):\n",
    "    area = length * width\n",
    "    return area\n",
    "\n",
    "# Request the information to calculate\n",
    "length = float(input(\"Insert the length: \"))\n",
    "width = float(input(\"Insert the width: \"))\n",
    "\n",
    "# Call the function\n",
    "area = calculate_area(length, width)\n",
    "print(f\"The area of the rectangle is: {area}\")"
   ]
  }
 ],
 "metadata": {
  "kernelspec": {
   "display_name": "Python [conda env:base] *",
   "language": "python",
   "name": "conda-base-py"
  },
  "language_info": {
   "codemirror_mode": {
    "name": "ipython",
    "version": 3
   },
   "file_extension": ".py",
   "mimetype": "text/x-python",
   "name": "python",
   "nbconvert_exporter": "python",
   "pygments_lexer": "ipython3",
   "version": "3.12.7"
  }
 },
 "nbformat": 4,
 "nbformat_minor": 5
}
